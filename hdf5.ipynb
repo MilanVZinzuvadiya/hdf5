{
 "cells": [
  {
   "cell_type": "code",
   "execution_count": 1,
   "id": "involved-recommendation",
   "metadata": {},
   "outputs": [],
   "source": [
    "import h5py as hdf\n",
    "import numpy as np"
   ]
  },
  {
   "cell_type": "code",
   "execution_count": 2,
   "id": "seeing-crime",
   "metadata": {},
   "outputs": [],
   "source": [
    "temparature = np.random.random(1024)"
   ]
  },
  {
   "cell_type": "code",
   "execution_count": 4,
   "id": "separated-movement",
   "metadata": {},
   "outputs": [
    {
     "data": {
      "text/plain": [
       "array([0.7267144 , 0.85711598, 0.36514943, ..., 0.85686586, 0.58933917,\n",
       "       0.76831601])"
      ]
     },
     "execution_count": 4,
     "metadata": {},
     "output_type": "execute_result"
    }
   ],
   "source": [
    "temparature"
   ]
  },
  {
   "cell_type": "code",
   "execution_count": 5,
   "id": "complete-belize",
   "metadata": {},
   "outputs": [],
   "source": [
    "dt = 10.0\n",
    "start_time = 1375204299\n",
    "station = 15"
   ]
  },
  {
   "cell_type": "code",
   "execution_count": null,
   "id": "computational-piece",
   "metadata": {},
   "outputs": [],
   "source": [
    "np.savez(\"weather.npz\",data=temparameture,inte=dt,time=start_time)"
   ]
  }
 ],
 "metadata": {
  "kernelspec": {
   "display_name": "Python 3",
   "language": "python",
   "name": "python3"
  },
  "language_info": {
   "codemirror_mode": {
    "name": "ipython",
    "version": 3
   },
   "file_extension": ".py",
   "mimetype": "text/x-python",
   "name": "python",
   "nbconvert_exporter": "python",
   "pygments_lexer": "ipython3",
   "version": "3.6.12"
  }
 },
 "nbformat": 4,
 "nbformat_minor": 5
}
