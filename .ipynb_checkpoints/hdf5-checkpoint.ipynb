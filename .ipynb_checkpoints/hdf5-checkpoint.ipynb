{
 "cells": [
  {
   "cell_type": "code",
   "execution_count": 1,
   "id": "prostate-tiffany",
   "metadata": {},
   "outputs": [],
   "source": [
    "import h5py as hdf\n",
    "import numpy as np"
   ]
  },
  {
   "cell_type": "markdown",
   "id": "accomplished-district",
   "metadata": {},
   "source": [
    "# Experimentations in Numpy"
   ]
  },
  {
   "cell_type": "code",
   "execution_count": 2,
   "id": "structured-england",
   "metadata": {},
   "outputs": [],
   "source": [
    "temparature = np.random.random(1024)"
   ]
  },
  {
   "cell_type": "code",
   "execution_count": 4,
   "id": "incomplete-trinity",
   "metadata": {},
   "outputs": [
    {
     "data": {
      "text/plain": [
       "array([0.7267144 , 0.85711598, 0.36514943, ..., 0.85686586, 0.58933917,\n",
       "       0.76831601])"
      ]
     },
     "execution_count": 4,
     "metadata": {},
     "output_type": "execute_result"
    }
   ],
   "source": [
    "temparature"
   ]
  },
  {
   "cell_type": "code",
   "execution_count": 5,
   "id": "rubber-estate",
   "metadata": {},
   "outputs": [],
   "source": [
    "dt = 10.0\n",
    "start_time = 1375204299\n",
    "station = 15"
   ]
  },
  {
   "cell_type": "markdown",
   "id": "informational-electronics",
   "metadata": {},
   "source": [
    "### store into numpy file using savez"
   ]
  },
  {
   "cell_type": "code",
   "execution_count": 7,
   "id": "danish-corrections",
   "metadata": {},
   "outputs": [],
   "source": [
    "np.savez(\"weather.npz\",data=temparature,interval=dt,time=start_time)"
   ]
  },
  {
   "cell_type": "markdown",
   "id": "altered-shock",
   "metadata": {},
   "source": [
    "### load numpy file"
   ]
  },
  {
   "cell_type": "code",
   "execution_count": 8,
   "id": "critical-referral",
   "metadata": {},
   "outputs": [],
   "source": [
    "out = np.load(\"weather.npz\")"
   ]
  },
  {
   "cell_type": "code",
   "execution_count": 9,
   "id": "convinced-harvest",
   "metadata": {},
   "outputs": [
    {
     "data": {
      "text/plain": [
       "array([0.7267144 , 0.85711598, 0.36514943, ..., 0.85686586, 0.58933917,\n",
       "       0.76831601])"
      ]
     },
     "execution_count": 9,
     "metadata": {},
     "output_type": "execute_result"
    }
   ],
   "source": [
    "out['data']"
   ]
  },
  {
   "cell_type": "code",
   "execution_count": 10,
   "id": "weighted-disco",
   "metadata": {},
   "outputs": [
    {
     "data": {
      "text/plain": [
       "array(10.)"
      ]
     },
     "execution_count": 10,
     "metadata": {},
     "output_type": "execute_result"
    }
   ],
   "source": [
    "out['interval']"
   ]
  },
  {
   "cell_type": "code",
   "execution_count": 11,
   "id": "cross-catch",
   "metadata": {},
   "outputs": [
    {
     "data": {
      "text/plain": [
       "array(1375204299)"
      ]
     },
     "execution_count": 11,
     "metadata": {},
     "output_type": "execute_result"
    }
   ],
   "source": [
    "out['time']"
   ]
  },
  {
   "cell_type": "markdown",
   "id": "figured-alaska",
   "metadata": {},
   "source": [
    "# Experiments with HDF5 file"
   ]
  },
  {
   "cell_type": "code",
   "execution_count": 13,
   "id": "sunrise-lawyer",
   "metadata": {},
   "outputs": [],
   "source": [
    "import h5py as hdf"
   ]
  },
  {
   "cell_type": "code",
   "execution_count": 15,
   "id": "alone-subcommittee",
   "metadata": {},
   "outputs": [],
   "source": [
    "f = hdf.File(\"weather.hdf5\",\"w-\")"
   ]
  },
  {
   "cell_type": "code",
   "execution_count": 16,
   "id": "german-scroll",
   "metadata": {},
   "outputs": [],
   "source": [
    "f[\"/15/temperature\"] = temparature\n",
    "f[\"/15/temperature\"].attrs[\"interval\"] = 10.0\n",
    "f[\"/15/temperature\"].attrs[\"start_time\"] = 1375204299\n",
    "f[\"/15/wind\"] = np.random.random(2048)\n",
    "f['/15/wind'].attrs[\"interval\"] = 5.0"
   ]
  },
  {
   "cell_type": "code",
   "execution_count": 17,
   "id": "industrial-quick",
   "metadata": {},
   "outputs": [],
   "source": [
    "f.close()"
   ]
  },
  {
   "cell_type": "code",
   "execution_count": 18,
   "id": "automated-optimum",
   "metadata": {},
   "outputs": [],
   "source": [
    "g = hdf.File(\"weather.hdf5\",\"r\")"
   ]
  },
  {
   "cell_type": "code",
   "execution_count": 19,
   "id": "focused-swift",
   "metadata": {},
   "outputs": [
    {
     "data": {
      "text/plain": [
       "<HDF5 dataset \"wind\": shape (2048,), type \"<f8\">"
      ]
     },
     "execution_count": 19,
     "metadata": {},
     "output_type": "execute_result"
    }
   ],
   "source": [
    "g[\"/15/wind\"]"
   ]
  },
  {
   "cell_type": "code",
   "execution_count": 22,
   "id": "southern-failing",
   "metadata": {},
   "outputs": [],
   "source": [
    "dataset = g[\"/15/temperature\"]"
   ]
  },
  {
   "cell_type": "code",
   "execution_count": 23,
   "id": "failing-dressing",
   "metadata": {},
   "outputs": [
    {
     "data": {
      "text/plain": [
       "<Attributes of HDF5 object at 1895815324248>"
      ]
     },
     "execution_count": 23,
     "metadata": {},
     "output_type": "execute_result"
    }
   ],
   "source": [
    "dataset.attrs"
   ]
  },
  {
   "cell_type": "code",
   "execution_count": 24,
   "id": "undefined-football",
   "metadata": {},
   "outputs": [
    {
     "name": "stdout",
     "output_type": "stream",
     "text": [
      "interval\n",
      "start_time\n"
     ]
    }
   ],
   "source": [
    "for i in dataset.attrs:\n",
    "    print(i)"
   ]
  },
  {
   "cell_type": "code",
   "execution_count": 27,
   "id": "lesser-jewel",
   "metadata": {},
   "outputs": [
    {
     "name": "stdout",
     "output_type": "stream",
     "text": [
      "interval 10.0\n",
      "start_time 1375204299\n"
     ]
    }
   ],
   "source": [
    "for i,j in dataset.attrs.items():\n",
    "    print(i,j)"
   ]
  },
  {
   "cell_type": "markdown",
   "id": "occasional-raise",
   "metadata": {},
   "source": [
    "### print all values of \"/15/temperature\" aka g"
   ]
  },
  {
   "cell_type": "code",
   "execution_count": 28,
   "id": "blond-constitutional",
   "metadata": {},
   "outputs": [
    {
     "data": {
      "text/plain": [
       "array([0.7267144 , 0.85711598, 0.36514943, ..., 0.85686586, 0.58933917,\n",
       "       0.76831601])"
      ]
     },
     "execution_count": 28,
     "metadata": {},
     "output_type": "execute_result"
    }
   ],
   "source": [
    "dataset[:]"
   ]
  },
  {
   "cell_type": "code",
   "execution_count": 29,
   "id": "continuous-pipeline",
   "metadata": {},
   "outputs": [
    {
     "data": {
      "text/plain": [
       "array([0.7267144 , 0.85711598, 0.36514943, 0.19349486, 0.87321003])"
      ]
     },
     "execution_count": 29,
     "metadata": {},
     "output_type": "execute_result"
    }
   ],
   "source": [
    "dataset[:5]"
   ]
  },
  {
   "cell_type": "code",
   "execution_count": 30,
   "id": "reported-jungle",
   "metadata": {},
   "outputs": [
    {
     "data": {
      "text/plain": [
       "array([0.7267144 , 0.85711598, 0.36514943, 0.19349486, 0.87321003,\n",
       "       0.11105231, 0.36707629, 0.59315507, 0.76308226, 0.20563836])"
      ]
     },
     "execution_count": 30,
     "metadata": {},
     "output_type": "execute_result"
    }
   ],
   "source": [
    "dataset[:10]"
   ]
  },
  {
   "cell_type": "code",
   "execution_count": 32,
   "id": "generous-labor",
   "metadata": {},
   "outputs": [
    {
     "data": {
      "text/plain": [
       "array([0.85711598, 0.19349486, 0.11105231, 0.59315507, 0.20563836])"
      ]
     },
     "execution_count": 32,
     "metadata": {},
     "output_type": "execute_result"
    }
   ],
   "source": [
    "dataset[1:10:2]"
   ]
  },
  {
   "cell_type": "code",
   "execution_count": 33,
   "id": "related-brick",
   "metadata": {},
   "outputs": [
    {
     "data": {
      "text/plain": [
       "array([0.7267144 , 0.36514943, 0.87321003, 0.36707629, 0.76308226])"
      ]
     },
     "execution_count": 33,
     "metadata": {},
     "output_type": "execute_result"
    }
   ],
   "source": [
    "dataset[:10:2]"
   ]
  },
  {
   "cell_type": "code",
   "execution_count": null,
   "id": "amateur-adoption",
   "metadata": {},
   "outputs": [],
   "source": []
  }
 ],
 "metadata": {
  "kernelspec": {
   "display_name": "Python 3",
   "language": "python",
   "name": "python3"
  },
  "language_info": {
   "codemirror_mode": {
    "name": "ipython",
    "version": 3
   },
   "file_extension": ".py",
   "mimetype": "text/x-python",
   "name": "python",
   "nbconvert_exporter": "python",
   "pygments_lexer": "ipython3",
   "version": "3.6.12"
  }
 },
 "nbformat": 4,
 "nbformat_minor": 5
}
